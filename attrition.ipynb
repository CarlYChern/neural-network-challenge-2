{
 "cells": [
  {
   "cell_type": "markdown",
   "metadata": {
    "id": "alIIEHibGc3M"
   },
   "source": [
    "## Part 1: Preprocessing"
   ]
  },
  {
   "cell_type": "code",
   "execution_count": 1,
   "metadata": {
    "colab": {
     "base_uri": "https://localhost:8080/",
     "height": 325
    },
    "executionInfo": {
     "elapsed": 12323,
     "status": "ok",
     "timestamp": 1730699226906,
     "user": {
      "displayName": "Alexander Booth",
      "userId": "02269714993535573104"
     },
     "user_tz": 360
    },
    "id": "6eDUJ4NtGc3P",
    "outputId": "eeae54b5-3d17-442d-94ba-00dd55b89964"
   },
   "outputs": [
    {
     "data": {
      "text/html": [
       "<div>\n",
       "<style scoped>\n",
       "    .dataframe tbody tr th:only-of-type {\n",
       "        vertical-align: middle;\n",
       "    }\n",
       "\n",
       "    .dataframe tbody tr th {\n",
       "        vertical-align: top;\n",
       "    }\n",
       "\n",
       "    .dataframe thead th {\n",
       "        text-align: right;\n",
       "    }\n",
       "</style>\n",
       "<table border=\"1\" class=\"dataframe\">\n",
       "  <thead>\n",
       "    <tr style=\"text-align: right;\">\n",
       "      <th></th>\n",
       "      <th>Age</th>\n",
       "      <th>Attrition</th>\n",
       "      <th>BusinessTravel</th>\n",
       "      <th>Department</th>\n",
       "      <th>DistanceFromHome</th>\n",
       "      <th>Education</th>\n",
       "      <th>EducationField</th>\n",
       "      <th>EnvironmentSatisfaction</th>\n",
       "      <th>HourlyRate</th>\n",
       "      <th>JobInvolvement</th>\n",
       "      <th>...</th>\n",
       "      <th>PerformanceRating</th>\n",
       "      <th>RelationshipSatisfaction</th>\n",
       "      <th>StockOptionLevel</th>\n",
       "      <th>TotalWorkingYears</th>\n",
       "      <th>TrainingTimesLastYear</th>\n",
       "      <th>WorkLifeBalance</th>\n",
       "      <th>YearsAtCompany</th>\n",
       "      <th>YearsInCurrentRole</th>\n",
       "      <th>YearsSinceLastPromotion</th>\n",
       "      <th>YearsWithCurrManager</th>\n",
       "    </tr>\n",
       "  </thead>\n",
       "  <tbody>\n",
       "    <tr>\n",
       "      <th>0</th>\n",
       "      <td>41</td>\n",
       "      <td>Yes</td>\n",
       "      <td>Travel_Rarely</td>\n",
       "      <td>Sales</td>\n",
       "      <td>1</td>\n",
       "      <td>2</td>\n",
       "      <td>Life Sciences</td>\n",
       "      <td>2</td>\n",
       "      <td>94</td>\n",
       "      <td>3</td>\n",
       "      <td>...</td>\n",
       "      <td>3</td>\n",
       "      <td>1</td>\n",
       "      <td>0</td>\n",
       "      <td>8</td>\n",
       "      <td>0</td>\n",
       "      <td>1</td>\n",
       "      <td>6</td>\n",
       "      <td>4</td>\n",
       "      <td>0</td>\n",
       "      <td>5</td>\n",
       "    </tr>\n",
       "    <tr>\n",
       "      <th>1</th>\n",
       "      <td>49</td>\n",
       "      <td>No</td>\n",
       "      <td>Travel_Frequently</td>\n",
       "      <td>Research &amp; Development</td>\n",
       "      <td>8</td>\n",
       "      <td>1</td>\n",
       "      <td>Life Sciences</td>\n",
       "      <td>3</td>\n",
       "      <td>61</td>\n",
       "      <td>2</td>\n",
       "      <td>...</td>\n",
       "      <td>4</td>\n",
       "      <td>4</td>\n",
       "      <td>1</td>\n",
       "      <td>10</td>\n",
       "      <td>3</td>\n",
       "      <td>3</td>\n",
       "      <td>10</td>\n",
       "      <td>7</td>\n",
       "      <td>1</td>\n",
       "      <td>7</td>\n",
       "    </tr>\n",
       "    <tr>\n",
       "      <th>2</th>\n",
       "      <td>37</td>\n",
       "      <td>Yes</td>\n",
       "      <td>Travel_Rarely</td>\n",
       "      <td>Research &amp; Development</td>\n",
       "      <td>2</td>\n",
       "      <td>2</td>\n",
       "      <td>Other</td>\n",
       "      <td>4</td>\n",
       "      <td>92</td>\n",
       "      <td>2</td>\n",
       "      <td>...</td>\n",
       "      <td>3</td>\n",
       "      <td>2</td>\n",
       "      <td>0</td>\n",
       "      <td>7</td>\n",
       "      <td>3</td>\n",
       "      <td>3</td>\n",
       "      <td>0</td>\n",
       "      <td>0</td>\n",
       "      <td>0</td>\n",
       "      <td>0</td>\n",
       "    </tr>\n",
       "    <tr>\n",
       "      <th>3</th>\n",
       "      <td>33</td>\n",
       "      <td>No</td>\n",
       "      <td>Travel_Frequently</td>\n",
       "      <td>Research &amp; Development</td>\n",
       "      <td>3</td>\n",
       "      <td>4</td>\n",
       "      <td>Life Sciences</td>\n",
       "      <td>4</td>\n",
       "      <td>56</td>\n",
       "      <td>3</td>\n",
       "      <td>...</td>\n",
       "      <td>3</td>\n",
       "      <td>3</td>\n",
       "      <td>0</td>\n",
       "      <td>8</td>\n",
       "      <td>3</td>\n",
       "      <td>3</td>\n",
       "      <td>8</td>\n",
       "      <td>7</td>\n",
       "      <td>3</td>\n",
       "      <td>0</td>\n",
       "    </tr>\n",
       "    <tr>\n",
       "      <th>4</th>\n",
       "      <td>27</td>\n",
       "      <td>No</td>\n",
       "      <td>Travel_Rarely</td>\n",
       "      <td>Research &amp; Development</td>\n",
       "      <td>2</td>\n",
       "      <td>1</td>\n",
       "      <td>Medical</td>\n",
       "      <td>1</td>\n",
       "      <td>40</td>\n",
       "      <td>3</td>\n",
       "      <td>...</td>\n",
       "      <td>3</td>\n",
       "      <td>4</td>\n",
       "      <td>1</td>\n",
       "      <td>6</td>\n",
       "      <td>3</td>\n",
       "      <td>3</td>\n",
       "      <td>2</td>\n",
       "      <td>2</td>\n",
       "      <td>2</td>\n",
       "      <td>2</td>\n",
       "    </tr>\n",
       "  </tbody>\n",
       "</table>\n",
       "<p>5 rows × 27 columns</p>\n",
       "</div>"
      ],
      "text/plain": [
       "   Age Attrition     BusinessTravel              Department  DistanceFromHome  \\\n",
       "0   41       Yes      Travel_Rarely                   Sales                 1   \n",
       "1   49        No  Travel_Frequently  Research & Development                 8   \n",
       "2   37       Yes      Travel_Rarely  Research & Development                 2   \n",
       "3   33        No  Travel_Frequently  Research & Development                 3   \n",
       "4   27        No      Travel_Rarely  Research & Development                 2   \n",
       "\n",
       "   Education EducationField  EnvironmentSatisfaction  HourlyRate  \\\n",
       "0          2  Life Sciences                        2          94   \n",
       "1          1  Life Sciences                        3          61   \n",
       "2          2          Other                        4          92   \n",
       "3          4  Life Sciences                        4          56   \n",
       "4          1        Medical                        1          40   \n",
       "\n",
       "   JobInvolvement  ...  PerformanceRating RelationshipSatisfaction  \\\n",
       "0               3  ...                  3                        1   \n",
       "1               2  ...                  4                        4   \n",
       "2               2  ...                  3                        2   \n",
       "3               3  ...                  3                        3   \n",
       "4               3  ...                  3                        4   \n",
       "\n",
       "   StockOptionLevel TotalWorkingYears  TrainingTimesLastYear WorkLifeBalance  \\\n",
       "0                 0                 8                      0               1   \n",
       "1                 1                10                      3               3   \n",
       "2                 0                 7                      3               3   \n",
       "3                 0                 8                      3               3   \n",
       "4                 1                 6                      3               3   \n",
       "\n",
       "   YearsAtCompany  YearsInCurrentRole  YearsSinceLastPromotion  \\\n",
       "0               6                   4                        0   \n",
       "1              10                   7                        1   \n",
       "2               0                   0                        0   \n",
       "3               8                   7                        3   \n",
       "4               2                   2                        2   \n",
       "\n",
       "   YearsWithCurrManager  \n",
       "0                     5  \n",
       "1                     7  \n",
       "2                     0  \n",
       "3                     0  \n",
       "4                     2  \n",
       "\n",
       "[5 rows x 27 columns]"
      ]
     },
     "execution_count": 1,
     "metadata": {},
     "output_type": "execute_result"
    }
   ],
   "source": [
    "# Import our dependencies\n",
    "import pandas as pd\n",
    "import numpy as np\n",
    "from sklearn.model_selection import train_test_split\n",
    "from sklearn.preprocessing import StandardScaler, OneHotEncoder\n",
    "from tensorflow.keras.models import Model\n",
    "from tensorflow.keras.layers import Input, Dense\n",
    "\n",
    "#  Import and read the attrition data\n",
    "attrition_df = pd.read_csv('https://static.bc-edx.com/ai/ail-v-1-0/m19/lms/datasets/attrition.csv')\n",
    "\n",
    "# Display the first five rows\n",
    "attrition_df.head()"
   ]
  },
  {
   "cell_type": "code",
   "execution_count": 2,
   "metadata": {
    "colab": {
     "base_uri": "https://localhost:8080/",
     "height": 930
    },
    "executionInfo": {
     "elapsed": 10,
     "status": "ok",
     "timestamp": 1730699226906,
     "user": {
      "displayName": "Alexander Booth",
      "userId": "02269714993535573104"
     },
     "user_tz": 360
    },
    "id": "g22aQSY4Gc3Q",
    "outputId": "e8b68509-45d8-42e0-a9db-1bdce48e4b2d"
   },
   "outputs": [
    {
     "data": {
      "text/plain": [
       "Age                         43\n",
       "Attrition                    2\n",
       "BusinessTravel               3\n",
       "Department                   3\n",
       "DistanceFromHome            29\n",
       "Education                    5\n",
       "EducationField               6\n",
       "EnvironmentSatisfaction      4\n",
       "HourlyRate                  71\n",
       "JobInvolvement               4\n",
       "JobLevel                     5\n",
       "JobRole                      9\n",
       "JobSatisfaction              4\n",
       "MaritalStatus                3\n",
       "NumCompaniesWorked          10\n",
       "OverTime                     2\n",
       "PercentSalaryHike           15\n",
       "PerformanceRating            2\n",
       "RelationshipSatisfaction     4\n",
       "StockOptionLevel             4\n",
       "TotalWorkingYears           40\n",
       "TrainingTimesLastYear        7\n",
       "WorkLifeBalance              4\n",
       "YearsAtCompany              37\n",
       "YearsInCurrentRole          19\n",
       "YearsSinceLastPromotion     16\n",
       "YearsWithCurrManager        18\n",
       "dtype: int64"
      ]
     },
     "execution_count": 2,
     "metadata": {},
     "output_type": "execute_result"
    }
   ],
   "source": [
    "# Determine the number of unique values in each column\n",
    "attrition_df.nunique()"
   ]
  },
  {
   "cell_type": "code",
   "execution_count": 3,
   "metadata": {
    "executionInfo": {
     "elapsed": 7,
     "status": "ok",
     "timestamp": 1730699226906,
     "user": {
      "displayName": "Alexander Booth",
      "userId": "02269714993535573104"
     },
     "user_tz": 360
    },
    "id": "50vMgBEnJbfM"
   },
   "outputs": [
    {
     "data": {
      "text/html": [
       "<div>\n",
       "<style scoped>\n",
       "    .dataframe tbody tr th:only-of-type {\n",
       "        vertical-align: middle;\n",
       "    }\n",
       "\n",
       "    .dataframe tbody tr th {\n",
       "        vertical-align: top;\n",
       "    }\n",
       "\n",
       "    .dataframe thead th {\n",
       "        text-align: right;\n",
       "    }\n",
       "</style>\n",
       "<table border=\"1\" class=\"dataframe\">\n",
       "  <thead>\n",
       "    <tr style=\"text-align: right;\">\n",
       "      <th></th>\n",
       "      <th>Attrition</th>\n",
       "      <th>Department</th>\n",
       "    </tr>\n",
       "  </thead>\n",
       "  <tbody>\n",
       "    <tr>\n",
       "      <th>0</th>\n",
       "      <td>Yes</td>\n",
       "      <td>Sales</td>\n",
       "    </tr>\n",
       "    <tr>\n",
       "      <th>1</th>\n",
       "      <td>No</td>\n",
       "      <td>Research &amp; Development</td>\n",
       "    </tr>\n",
       "    <tr>\n",
       "      <th>2</th>\n",
       "      <td>Yes</td>\n",
       "      <td>Research &amp; Development</td>\n",
       "    </tr>\n",
       "    <tr>\n",
       "      <th>3</th>\n",
       "      <td>No</td>\n",
       "      <td>Research &amp; Development</td>\n",
       "    </tr>\n",
       "    <tr>\n",
       "      <th>4</th>\n",
       "      <td>No</td>\n",
       "      <td>Research &amp; Development</td>\n",
       "    </tr>\n",
       "  </tbody>\n",
       "</table>\n",
       "</div>"
      ],
      "text/plain": [
       "  Attrition              Department\n",
       "0       Yes                   Sales\n",
       "1        No  Research & Development\n",
       "2       Yes  Research & Development\n",
       "3        No  Research & Development\n",
       "4        No  Research & Development"
      ]
     },
     "execution_count": 3,
     "metadata": {},
     "output_type": "execute_result"
    }
   ],
   "source": [
    "# Select two y target columns\n",
    "# Create y_df with the Attrition and Department columns\n",
    "y_df = attrition_df[['Attrition', 'Department']]\n",
    "\n",
    "# Display the first five rows\n",
    "y_df.head()\n"
   ]
  },
  {
   "cell_type": "code",
   "execution_count": 4,
   "metadata": {
    "colab": {
     "base_uri": "https://localhost:8080/",
     "height": 397
    },
    "executionInfo": {
     "elapsed": 125,
     "status": "ok",
     "timestamp": 1730699227025,
     "user": {
      "displayName": "Alexander Booth",
      "userId": "02269714993535573104"
     },
     "user_tz": 360
    },
    "id": "Virka0zLGc3R",
    "outputId": "24f181c9-7e2e-42cb-94e8-a75842f1ab01"
   },
   "outputs": [
    {
     "data": {
      "text/plain": [
       "Education                   int64\n",
       "Age                         int64\n",
       "DistanceFromHome            int64\n",
       "JobSatisfaction             int64\n",
       "OverTime                   object\n",
       "StockOptionLevel            int64\n",
       "WorkLifeBalance             int64\n",
       "YearsAtCompany              int64\n",
       "YearsSinceLastPromotion     int64\n",
       "NumCompaniesWorked          int64\n",
       "dtype: object"
      ]
     },
     "execution_count": 4,
     "metadata": {},
     "output_type": "execute_result"
    }
   ],
   "source": [
    "# Create a list of at least 10 column names to use as X data\n",
    "columns_for_X = ['Education', 'Age', 'DistanceFromHome', 'JobSatisfaction',\n",
    "                 'OverTime', 'StockOptionLevel', 'WorkLifeBalance',\n",
    "                 'YearsAtCompany', 'YearsSinceLastPromotion', 'NumCompaniesWorked']\n",
    "\n",
    "# Create X_df using your selected columns\n",
    "X_df = attrition_df[columns_for_X]\n",
    "\n",
    "# Show the data types for X_df\n",
    "X_df.dtypes"
   ]
  },
  {
   "cell_type": "code",
   "execution_count": 5,
   "metadata": {},
   "outputs": [
    {
     "data": {
      "text/plain": [
       "array(['Yes', 'No'], dtype=object)"
      ]
     },
     "execution_count": 5,
     "metadata": {},
     "output_type": "execute_result"
    }
   ],
   "source": [
    "# Check the unique values in the OverTime column of X_df\n",
    "X_df['OverTime'].unique()"
   ]
  },
  {
   "cell_type": "code",
   "execution_count": 6,
   "metadata": {
    "colab": {
     "base_uri": "https://localhost:8080/",
     "height": 178
    },
    "executionInfo": {
     "elapsed": 8,
     "status": "ok",
     "timestamp": 1730699227025,
     "user": {
      "displayName": "Alexander Booth",
      "userId": "02269714993535573104"
     },
     "user_tz": 360
    },
    "id": "NYubUJqiLCSp",
    "outputId": "6116187c-4afa-4d4a-aeb9-fdc2131d0d58"
   },
   "outputs": [],
   "source": [
    "# Encode categorical feaature 'OverTime' in X (before splitting)\n",
    "\n",
    "# Convert your X data to numeric data types however you see fit\n",
    "# Add new code cells as necessary\n",
    "\n",
    "ohe_overtime = OneHotEncoder(drop='if_binary', sparse_output=False)\n",
    "overtime_encoded = ohe_overtime.fit_transform(X_df[['OverTime']])\n",
    "\n",
    "# Drop original categorical column and add the new one-hot encoded column\n",
    "X_df = X_df.drop(columns=['OverTime'])\n",
    "X_df = pd.concat([X_df, pd.DataFrame(overtime_encoded,\\\n",
    "                                      columns=[\"OverTime_yes\"])], axis=1)"
   ]
  },
  {
   "cell_type": "code",
   "execution_count": 7,
   "metadata": {},
   "outputs": [
    {
     "data": {
      "text/plain": [
       "OverTime_yes\n",
       "0.0    1054\n",
       "1.0     416\n",
       "Name: count, dtype: int64"
      ]
     },
     "execution_count": 7,
     "metadata": {},
     "output_type": "execute_result"
    }
   ],
   "source": [
    "# Check the unique values after encoding\n",
    "X_df['OverTime_yes'].value_counts()"
   ]
  },
  {
   "cell_type": "code",
   "execution_count": 8,
   "metadata": {},
   "outputs": [
    {
     "data": {
      "text/plain": [
       "Education                    int64\n",
       "Age                          int64\n",
       "DistanceFromHome             int64\n",
       "JobSatisfaction              int64\n",
       "StockOptionLevel             int64\n",
       "WorkLifeBalance              int64\n",
       "YearsAtCompany               int64\n",
       "YearsSinceLastPromotion      int64\n",
       "NumCompaniesWorked           int64\n",
       "OverTime_yes               float64\n",
       "dtype: object"
      ]
     },
     "execution_count": 8,
     "metadata": {},
     "output_type": "execute_result"
    }
   ],
   "source": [
    "# Show the data types for X_df to ensure all integers\n",
    "X_df.dtypes"
   ]
  },
  {
   "cell_type": "code",
   "execution_count": 9,
   "metadata": {},
   "outputs": [],
   "source": [
    "# Split the data into training and testing sets\n",
    "X_train, X_test, y_train, y_test = train_test_split(X_df, y_df, random_state=42)"
   ]
  },
  {
   "cell_type": "code",
   "execution_count": 10,
   "metadata": {},
   "outputs": [
    {
     "data": {
      "text/plain": [
       "array(['Sales', 'Research & Development', 'Human Resources'], dtype=object)"
      ]
     },
     "execution_count": 10,
     "metadata": {},
     "output_type": "execute_result"
    }
   ],
   "source": [
    "# Check the unique values in the Department column of y_df\n",
    "y_df['Department'].unique()"
   ]
  },
  {
   "cell_type": "code",
   "execution_count": 11,
   "metadata": {},
   "outputs": [
    {
     "data": {
      "text/plain": [
       "Department\n",
       "Research & Development    961\n",
       "Sales                     446\n",
       "Human Resources            63\n",
       "Name: count, dtype: int64"
      ]
     },
     "execution_count": 11,
     "metadata": {},
     "output_type": "execute_result"
    }
   ],
   "source": [
    "# Check the count\n",
    "y_df['Department'].value_counts()"
   ]
  },
  {
   "cell_type": "code",
   "execution_count": 12,
   "metadata": {},
   "outputs": [
    {
     "data": {
      "text/plain": [
       "array(['Yes', 'No'], dtype=object)"
      ]
     },
     "execution_count": 12,
     "metadata": {},
     "output_type": "execute_result"
    }
   ],
   "source": [
    "# Check the unique values in the Attrition column of y_df\n",
    "y_df['Attrition'].unique()"
   ]
  },
  {
   "cell_type": "code",
   "execution_count": 13,
   "metadata": {},
   "outputs": [
    {
     "data": {
      "text/plain": [
       "Attrition\n",
       "No     1233\n",
       "Yes     237\n",
       "Name: count, dtype: int64"
      ]
     },
     "execution_count": 13,
     "metadata": {},
     "output_type": "execute_result"
    }
   ],
   "source": [
    "# Check the count\n",
    "y_df['Attrition'].value_counts()"
   ]
  },
  {
   "cell_type": "code",
   "execution_count": 14,
   "metadata": {
    "colab": {
     "base_uri": "https://localhost:8080/"
    },
    "executionInfo": {
     "elapsed": 99,
     "status": "ok",
     "timestamp": 1730699227256,
     "user": {
      "displayName": "Alexander Booth",
      "userId": "02269714993535573104"
     },
     "user_tz": 360
    },
    "id": "-z0Mky8vQSz4",
    "outputId": "5024d63f-7e4e-4a91-fb76-0b2c79c1bcfb"
   },
   "outputs": [
    {
     "data": {
      "text/plain": [
       "array([[0., 1., 0.],\n",
       "       [0., 0., 1.],\n",
       "       [0., 0., 1.],\n",
       "       ...,\n",
       "       [0., 1., 0.],\n",
       "       [0., 1., 0.],\n",
       "       [0., 0., 1.]])"
      ]
     },
     "execution_count": 14,
     "metadata": {},
     "output_type": "execute_result"
    }
   ],
   "source": [
    "# Encode two y target variables (after splitting)\n",
    "# First, preprocess Department\n",
    "\n",
    "# Create a OneHotEncoder for the Department column\n",
    "ohe_dept = OneHotEncoder(sparse_output=False)\n",
    "\n",
    "# Create two new variables by applying the encoder\n",
    "# to the training and testing data\n",
    "y_train_dept = ohe_dept.fit_transform(y_train[['Department']])\n",
    "y_test_dept = ohe_dept.transform(y_test[['Department']])\n",
    "\n",
    "y_train_dept"
   ]
  },
  {
   "cell_type": "code",
   "execution_count": 15,
   "metadata": {
    "colab": {
     "base_uri": "https://localhost:8080/"
    },
    "executionInfo": {
     "elapsed": 5,
     "status": "ok",
     "timestamp": 1730699227257,
     "user": {
      "displayName": "Alexander Booth",
      "userId": "02269714993535573104"
     },
     "user_tz": 360
    },
    "id": "-G4DSpvFRrk4",
    "outputId": "1821049e-a4f0-437f-b8a7-e415431fbdb0"
   },
   "outputs": [
    {
     "data": {
      "text/plain": [
       "array([[1., 0.],\n",
       "       [1., 0.],\n",
       "       [1., 0.],\n",
       "       ...,\n",
       "       [0., 1.],\n",
       "       [1., 0.],\n",
       "       [1., 0.]])"
      ]
     },
     "execution_count": 15,
     "metadata": {},
     "output_type": "execute_result"
    }
   ],
   "source": [
    "# Create a OneHotEncoder for the Attrition column\n",
    "\n",
    "# Fit the encoder to the training data\n",
    "ohe_attr = OneHotEncoder(sparse_output=False)\n",
    "\n",
    "# Create two new variables by applying the encoder\n",
    "# to the training and testing data\n",
    "y_train_attr = ohe_attr.fit_transform(y_train[['Attrition']])\n",
    "y_test_attr = ohe_attr.transform(y_test[['Attrition']])\n",
    "\n",
    "y_train_attr"
   ]
  },
  {
   "cell_type": "code",
   "execution_count": 16,
   "metadata": {},
   "outputs": [],
   "source": [
    "# Standarize X Features (after splitting)\n",
    "\n",
    "# Create a StandardScaler\n",
    "scaler = StandardScaler()\n",
    "\n",
    "# Fit the StandardScaler to the training data\n",
    "scaler.fit(X_train)\n",
    "\n",
    "# Scale the training and testing data\n",
    "X_train_scaled = scaler.fit_transform(X_train)\n",
    "X_test_scaled = scaler.transform(X_test)"
   ]
  },
  {
   "cell_type": "markdown",
   "metadata": {
    "id": "ykNmu_WWGc3T"
   },
   "source": [
    "## Part 2: Create, Compile, and Train the Model"
   ]
  },
  {
   "cell_type": "code",
   "execution_count": 17,
   "metadata": {
    "executionInfo": {
     "elapsed": 309,
     "status": "ok",
     "timestamp": 1730699227563,
     "user": {
      "displayName": "Alexander Booth",
      "userId": "02269714993535573104"
     },
     "user_tz": 360
    },
    "id": "WUptZqmSGc3T"
   },
   "outputs": [
    {
     "name": "stdout",
     "output_type": "stream",
     "text": [
      "10\n"
     ]
    }
   ],
   "source": [
    "# Find the number of columns in the X training data.\n",
    "input_shape = X_train_scaled.shape[1]\n",
    "print(input_shape)\n",
    "\n",
    "# Create the input layer\n",
    "input_layer = Input(shape=(input_shape,), name='input')\n",
    "\n",
    "# Create at least two shared layers\n",
    "shared_layer1 = Dense(128, activation='relu', name='shared1')(input_layer)\n",
    "shared_layer2 = Dense(64, activation='relu', name='shared2')(shared_layer1)"
   ]
  },
  {
   "cell_type": "code",
   "execution_count": 18,
   "metadata": {
    "executionInfo": {
     "elapsed": 118,
     "status": "ok",
     "timestamp": 1730699227678,
     "user": {
      "displayName": "Alexander Booth",
      "userId": "02269714993535573104"
     },
     "user_tz": 360
    },
    "id": "JukjTm2yTEqd"
   },
   "outputs": [],
   "source": [
    "# Create a branch for Department\n",
    "# with a hidden layer and an output layer\n",
    "\n",
    "# Create the hidden layer\n",
    "dept_hidden = Dense(32, activation='relu', name='department_hidden')(shared_layer2)\n",
    "\n",
    "# Create the output layer\n",
    "dept_output = Dense(y_train_dept.shape[1], activation='softmax',\\\n",
    "                      name='department_output')(dept_hidden)"
   ]
  },
  {
   "cell_type": "code",
   "execution_count": 19,
   "metadata": {
    "executionInfo": {
     "elapsed": 9,
     "status": "ok",
     "timestamp": 1730699227679,
     "user": {
      "displayName": "Alexander Booth",
      "userId": "02269714993535573104"
     },
     "user_tz": 360
    },
    "id": "9OqhUiOJUBkR"
   },
   "outputs": [],
   "source": [
    "# Create a branch for Attrition\n",
    "# with a hidden layer and an output layer\n",
    "\n",
    "# Create the hidden layer\n",
    "attr_hidden = Dense(32, activation='relu', name='attrition_hidden')(shared_layer2)\n",
    "\n",
    "# Create the output layer\n",
    "attr_output = Dense(y_train_attr.shape[1], activation='sigmoid',\\\n",
    "                      name='attrition_output')(attr_hidden)"
   ]
  },
  {
   "cell_type": "code",
   "execution_count": 20,
   "metadata": {
    "colab": {
     "base_uri": "https://localhost:8080/",
     "height": 361
    },
    "executionInfo": {
     "elapsed": 108,
     "status": "ok",
     "timestamp": 1730699227780,
     "user": {
      "displayName": "Alexander Booth",
      "userId": "02269714993535573104"
     },
     "user_tz": 360
    },
    "id": "twmuejdxGc3T",
    "outputId": "dd9ce242-6a66-4709-ba13-4b13551c22e0"
   },
   "outputs": [
    {
     "name": "stdout",
     "output_type": "stream",
     "text": [
      "Model: \"model\"\n",
      "__________________________________________________________________________________________________\n",
      " Layer (type)                   Output Shape         Param #     Connected to                     \n",
      "==================================================================================================\n",
      " input (InputLayer)             [(None, 10)]         0           []                               \n",
      "                                                                                                  \n",
      " shared1 (Dense)                (None, 128)          1408        ['input[0][0]']                  \n",
      "                                                                                                  \n",
      " shared2 (Dense)                (None, 64)           8256        ['shared1[0][0]']                \n",
      "                                                                                                  \n",
      " department_hidden (Dense)      (None, 32)           2080        ['shared2[0][0]']                \n",
      "                                                                                                  \n",
      " attrition_hidden (Dense)       (None, 32)           2080        ['shared2[0][0]']                \n",
      "                                                                                                  \n",
      " department_output (Dense)      (None, 3)            99          ['department_hidden[0][0]']      \n",
      "                                                                                                  \n",
      " attrition_output (Dense)       (None, 2)            66          ['attrition_hidden[0][0]']       \n",
      "                                                                                                  \n",
      "==================================================================================================\n",
      "Total params: 13,989\n",
      "Trainable params: 13,989\n",
      "Non-trainable params: 0\n",
      "__________________________________________________________________________________________________\n"
     ]
    }
   ],
   "source": [
    "# Create the model\n",
    "model = Model(inputs=input_layer, outputs=[dept_output, attr_output])\n",
    "\n",
    "# Compile the model\n",
    "model.compile(optimizer='adam',\n",
    "              loss=['categorical_crossentropy', 'binary_crossentropy'],\n",
    "              metrics=['accuracy'])\n",
    "\n",
    "# Summarize the model\n",
    "model.summary()"
   ]
  },
  {
   "cell_type": "code",
   "execution_count": 21,
   "metadata": {
    "colab": {
     "base_uri": "https://localhost:8080/"
    },
    "executionInfo": {
     "elapsed": 31740,
     "status": "ok",
     "timestamp": 1730699259517,
     "user": {
      "displayName": "Alexander Booth",
      "userId": "02269714993535573104"
     },
     "user_tz": 360
    },
    "id": "c8oGy0dpGc3U",
    "outputId": "f48a5292-426f-4715-ea6e-381a8e9d5542"
   },
   "outputs": [
    {
     "name": "stdout",
     "output_type": "stream",
     "text": [
      "Epoch 1/50\n",
      "69/69 [==============================] - 1s 2ms/step - loss: 1.3870 - department_output_loss: 0.8638 - attrition_output_loss: 0.5231 - department_output_accuracy: 0.6107 - attrition_output_accuracy: 0.8113\n",
      "Epoch 2/50\n",
      "69/69 [==============================] - 0s 2ms/step - loss: 1.1893 - department_output_loss: 0.7716 - attrition_output_loss: 0.4176 - department_output_accuracy: 0.6543 - attrition_output_accuracy: 0.8294\n",
      "Epoch 3/50\n",
      "69/69 [==============================] - 0s 2ms/step - loss: 1.1460 - department_output_loss: 0.7642 - attrition_output_loss: 0.3819 - department_output_accuracy: 0.6543 - attrition_output_accuracy: 0.8430\n",
      "Epoch 4/50\n",
      "69/69 [==============================] - 0s 2ms/step - loss: 1.1290 - department_output_loss: 0.7589 - attrition_output_loss: 0.3701 - department_output_accuracy: 0.6534 - attrition_output_accuracy: 0.8612\n",
      "Epoch 5/50\n",
      "69/69 [==============================] - 0s 2ms/step - loss: 1.0998 - department_output_loss: 0.7478 - attrition_output_loss: 0.3519 - department_output_accuracy: 0.6552 - attrition_output_accuracy: 0.8639\n",
      "Epoch 6/50\n",
      "69/69 [==============================] - 0s 2ms/step - loss: 1.0797 - department_output_loss: 0.7436 - attrition_output_loss: 0.3361 - department_output_accuracy: 0.6525 - attrition_output_accuracy: 0.8648\n",
      "Epoch 7/50\n",
      "69/69 [==============================] - 0s 2ms/step - loss: 1.0652 - department_output_loss: 0.7364 - attrition_output_loss: 0.3288 - department_output_accuracy: 0.6497 - attrition_output_accuracy: 0.8721\n",
      "Epoch 8/50\n",
      "69/69 [==============================] - 0s 2ms/step - loss: 1.0523 - department_output_loss: 0.7308 - attrition_output_loss: 0.3215 - department_output_accuracy: 0.6579 - attrition_output_accuracy: 0.8730\n",
      "Epoch 9/50\n",
      "69/69 [==============================] - 0s 2ms/step - loss: 1.0366 - department_output_loss: 0.7259 - attrition_output_loss: 0.3107 - department_output_accuracy: 0.6515 - attrition_output_accuracy: 0.8684\n",
      "Epoch 10/50\n",
      "69/69 [==============================] - 0s 2ms/step - loss: 1.0170 - department_output_loss: 0.7114 - attrition_output_loss: 0.3056 - department_output_accuracy: 0.6624 - attrition_output_accuracy: 0.8848\n",
      "Epoch 11/50\n",
      "69/69 [==============================] - 0s 2ms/step - loss: 1.0013 - department_output_loss: 0.7042 - attrition_output_loss: 0.2971 - department_output_accuracy: 0.6597 - attrition_output_accuracy: 0.8884\n",
      "Epoch 12/50\n",
      "69/69 [==============================] - 0s 2ms/step - loss: 0.9917 - department_output_loss: 0.6954 - attrition_output_loss: 0.2963 - department_output_accuracy: 0.6661 - attrition_output_accuracy: 0.8802\n",
      "Epoch 13/50\n",
      "69/69 [==============================] - 0s 2ms/step - loss: 0.9674 - department_output_loss: 0.6886 - attrition_output_loss: 0.2788 - department_output_accuracy: 0.6679 - attrition_output_accuracy: 0.8938\n",
      "Epoch 14/50\n",
      "69/69 [==============================] - 0s 2ms/step - loss: 0.9561 - department_output_loss: 0.6794 - attrition_output_loss: 0.2767 - department_output_accuracy: 0.6815 - attrition_output_accuracy: 0.8893\n",
      "Epoch 15/50\n",
      "69/69 [==============================] - 0s 2ms/step - loss: 0.9359 - department_output_loss: 0.6681 - attrition_output_loss: 0.2678 - department_output_accuracy: 0.6824 - attrition_output_accuracy: 0.8956\n",
      "Epoch 16/50\n",
      "69/69 [==============================] - 0s 2ms/step - loss: 0.9116 - department_output_loss: 0.6538 - attrition_output_loss: 0.2578 - department_output_accuracy: 0.6933 - attrition_output_accuracy: 0.8966\n",
      "Epoch 17/50\n",
      "69/69 [==============================] - 0s 2ms/step - loss: 0.8994 - department_output_loss: 0.6456 - attrition_output_loss: 0.2538 - department_output_accuracy: 0.6933 - attrition_output_accuracy: 0.9047\n",
      "Epoch 18/50\n",
      "69/69 [==============================] - 0s 2ms/step - loss: 0.8744 - department_output_loss: 0.6312 - attrition_output_loss: 0.2431 - department_output_accuracy: 0.7105 - attrition_output_accuracy: 0.9020\n",
      "Epoch 19/50\n",
      "69/69 [==============================] - 0s 2ms/step - loss: 0.8539 - department_output_loss: 0.6155 - attrition_output_loss: 0.2384 - department_output_accuracy: 0.7269 - attrition_output_accuracy: 0.9056\n",
      "Epoch 20/50\n",
      "69/69 [==============================] - 0s 2ms/step - loss: 0.8280 - department_output_loss: 0.6003 - attrition_output_loss: 0.2277 - department_output_accuracy: 0.7405 - attrition_output_accuracy: 0.9138\n",
      "Epoch 21/50\n",
      "69/69 [==============================] - 0s 2ms/step - loss: 0.8064 - department_output_loss: 0.5865 - attrition_output_loss: 0.2198 - department_output_accuracy: 0.7387 - attrition_output_accuracy: 0.9138\n",
      "Epoch 22/50\n",
      "69/69 [==============================] - 0s 2ms/step - loss: 0.7871 - department_output_loss: 0.5724 - attrition_output_loss: 0.2147 - department_output_accuracy: 0.7368 - attrition_output_accuracy: 0.9129\n",
      "Epoch 23/50\n",
      "69/69 [==============================] - 0s 2ms/step - loss: 0.7581 - department_output_loss: 0.5612 - attrition_output_loss: 0.1969 - department_output_accuracy: 0.7586 - attrition_output_accuracy: 0.9274\n",
      "Epoch 24/50\n",
      "69/69 [==============================] - 0s 2ms/step - loss: 0.7407 - department_output_loss: 0.5456 - attrition_output_loss: 0.1951 - department_output_accuracy: 0.7532 - attrition_output_accuracy: 0.9220\n",
      "Epoch 25/50\n",
      "69/69 [==============================] - 0s 2ms/step - loss: 0.7154 - department_output_loss: 0.5266 - attrition_output_loss: 0.1888 - department_output_accuracy: 0.7704 - attrition_output_accuracy: 0.9310\n",
      "Epoch 26/50\n",
      "69/69 [==============================] - 0s 2ms/step - loss: 0.6928 - department_output_loss: 0.5137 - attrition_output_loss: 0.1791 - department_output_accuracy: 0.7704 - attrition_output_accuracy: 0.9374\n",
      "Epoch 27/50\n",
      "69/69 [==============================] - 0s 2ms/step - loss: 0.6763 - department_output_loss: 0.5051 - attrition_output_loss: 0.1712 - department_output_accuracy: 0.7831 - attrition_output_accuracy: 0.9365\n",
      "Epoch 28/50\n",
      "69/69 [==============================] - 0s 2ms/step - loss: 0.6605 - department_output_loss: 0.4924 - attrition_output_loss: 0.1682 - department_output_accuracy: 0.7949 - attrition_output_accuracy: 0.9374\n",
      "Epoch 29/50\n",
      "69/69 [==============================] - 0s 2ms/step - loss: 0.6427 - department_output_loss: 0.4773 - attrition_output_loss: 0.1654 - department_output_accuracy: 0.7976 - attrition_output_accuracy: 0.9401\n",
      "Epoch 30/50\n",
      "69/69 [==============================] - 0s 2ms/step - loss: 0.6105 - department_output_loss: 0.4576 - attrition_output_loss: 0.1529 - department_output_accuracy: 0.8004 - attrition_output_accuracy: 0.9456\n",
      "Epoch 31/50\n",
      "69/69 [==============================] - 0s 2ms/step - loss: 0.6015 - department_output_loss: 0.4490 - attrition_output_loss: 0.1525 - department_output_accuracy: 0.8085 - attrition_output_accuracy: 0.9474\n",
      "Epoch 32/50\n",
      "69/69 [==============================] - 0s 2ms/step - loss: 0.5695 - department_output_loss: 0.4299 - attrition_output_loss: 0.1395 - department_output_accuracy: 0.8194 - attrition_output_accuracy: 0.9555\n",
      "Epoch 33/50\n",
      "69/69 [==============================] - 0s 2ms/step - loss: 0.5474 - department_output_loss: 0.4047 - attrition_output_loss: 0.1426 - department_output_accuracy: 0.8312 - attrition_output_accuracy: 0.9456\n",
      "Epoch 34/50\n",
      "69/69 [==============================] - 0s 2ms/step - loss: 0.5187 - department_output_loss: 0.3941 - attrition_output_loss: 0.1246 - department_output_accuracy: 0.8466 - attrition_output_accuracy: 0.9574\n",
      "Epoch 35/50\n",
      "69/69 [==============================] - 0s 1ms/step - loss: 0.4976 - department_output_loss: 0.3735 - attrition_output_loss: 0.1241 - department_output_accuracy: 0.8539 - attrition_output_accuracy: 0.9592\n",
      "Epoch 36/50\n",
      "69/69 [==============================] - 0s 2ms/step - loss: 0.4976 - department_output_loss: 0.3766 - attrition_output_loss: 0.1210 - department_output_accuracy: 0.8412 - attrition_output_accuracy: 0.9555\n",
      "Epoch 37/50\n",
      "69/69 [==============================] - 0s 2ms/step - loss: 0.4813 - department_output_loss: 0.3541 - attrition_output_loss: 0.1272 - department_output_accuracy: 0.8657 - attrition_output_accuracy: 0.9546\n",
      "Epoch 38/50\n",
      "69/69 [==============================] - 0s 2ms/step - loss: 0.4481 - department_output_loss: 0.3418 - attrition_output_loss: 0.1063 - department_output_accuracy: 0.8630 - attrition_output_accuracy: 0.9601\n",
      "Epoch 39/50\n",
      "69/69 [==============================] - 0s 1ms/step - loss: 0.4396 - department_output_loss: 0.3331 - attrition_output_loss: 0.1065 - department_output_accuracy: 0.8757 - attrition_output_accuracy: 0.9628\n",
      "Epoch 40/50\n",
      "69/69 [==============================] - 0s 2ms/step - loss: 0.4262 - department_output_loss: 0.3183 - attrition_output_loss: 0.1079 - department_output_accuracy: 0.8775 - attrition_output_accuracy: 0.9646\n",
      "Epoch 41/50\n",
      "69/69 [==============================] - 0s 2ms/step - loss: 0.3996 - department_output_loss: 0.3070 - attrition_output_loss: 0.0926 - department_output_accuracy: 0.8920 - attrition_output_accuracy: 0.9728\n",
      "Epoch 42/50\n",
      "69/69 [==============================] - 0s 2ms/step - loss: 0.3981 - department_output_loss: 0.2931 - attrition_output_loss: 0.1050 - department_output_accuracy: 0.8966 - attrition_output_accuracy: 0.9619\n",
      "Epoch 43/50\n",
      "69/69 [==============================] - 0s 1ms/step - loss: 0.3712 - department_output_loss: 0.2846 - attrition_output_loss: 0.0866 - department_output_accuracy: 0.8893 - attrition_output_accuracy: 0.9737\n",
      "Epoch 44/50\n",
      "69/69 [==============================] - 0s 2ms/step - loss: 0.3487 - department_output_loss: 0.2670 - attrition_output_loss: 0.0817 - department_output_accuracy: 0.9138 - attrition_output_accuracy: 0.9782\n",
      "Epoch 45/50\n",
      "69/69 [==============================] - 0s 2ms/step - loss: 0.3406 - department_output_loss: 0.2593 - attrition_output_loss: 0.0814 - department_output_accuracy: 0.9038 - attrition_output_accuracy: 0.9710\n",
      "Epoch 46/50\n",
      "69/69 [==============================] - 0s 2ms/step - loss: 0.3182 - department_output_loss: 0.2488 - attrition_output_loss: 0.0693 - department_output_accuracy: 0.9192 - attrition_output_accuracy: 0.9800\n",
      "Epoch 47/50\n",
      "69/69 [==============================] - 0s 2ms/step - loss: 0.3027 - department_output_loss: 0.2323 - attrition_output_loss: 0.0703 - department_output_accuracy: 0.9274 - attrition_output_accuracy: 0.9809\n",
      "Epoch 48/50\n",
      "69/69 [==============================] - 0s 3ms/step - loss: 0.2957 - department_output_loss: 0.2281 - attrition_output_loss: 0.0676 - department_output_accuracy: 0.9183 - attrition_output_accuracy: 0.9819\n",
      "Epoch 49/50\n",
      "69/69 [==============================] - 0s 3ms/step - loss: 0.2820 - department_output_loss: 0.2182 - attrition_output_loss: 0.0638 - department_output_accuracy: 0.9238 - attrition_output_accuracy: 0.9837\n",
      "Epoch 50/50\n",
      "69/69 [==============================] - 0s 3ms/step - loss: 0.2717 - department_output_loss: 0.2077 - attrition_output_loss: 0.0640 - department_output_accuracy: 0.9265 - attrition_output_accuracy: 0.9809\n"
     ]
    }
   ],
   "source": [
    "# Train the model\n",
    "history = model.fit(X_train_scaled, [y_train_dept, y_train_attr],\n",
    "                    epochs=50, batch_size=16, verbose=1)"
   ]
  },
  {
   "cell_type": "code",
   "execution_count": 22,
   "metadata": {
    "colab": {
     "base_uri": "https://localhost:8080/"
    },
    "executionInfo": {
     "elapsed": 379,
     "status": "ok",
     "timestamp": 1730699259894,
     "user": {
      "displayName": "Alexander Booth",
      "userId": "02269714993535573104"
     },
     "user_tz": 360
    },
    "id": "VsMoaQlgGc3U",
    "outputId": "636c85ba-ee63-4087-b7d1-00b408f1055a"
   },
   "outputs": [
    {
     "name": "stdout",
     "output_type": "stream",
     "text": [
      "12/12 [==============================] - 0s 2ms/step - loss: 2.3214 - department_output_loss: 1.4751 - attrition_output_loss: 0.8463 - department_output_accuracy: 0.5924 - attrition_output_accuracy: 0.8370\n"
     ]
    }
   ],
   "source": [
    "# Evaluate the model with the testing data\n",
    "eval_results = model.evaluate(X_test_scaled, [y_test_dept, y_test_attr])"
   ]
  },
  {
   "cell_type": "code",
   "execution_count": 23,
   "metadata": {
    "colab": {
     "base_uri": "https://localhost:8080/"
    },
    "executionInfo": {
     "elapsed": 113,
     "status": "ok",
     "timestamp": 1730699260004,
     "user": {
      "displayName": "Alexander Booth",
      "userId": "02269714993535573104"
     },
     "user_tz": 360
    },
    "id": "ZlCtlHi0Vt54",
    "outputId": "3a32435c-11cf-48da-81b5-1431d6c00da2"
   },
   "outputs": [
    {
     "name": "stdout",
     "output_type": "stream",
     "text": [
      "Department Accuracy: 0.5924\n",
      "Attrition Accuracy: 0.8370\n"
     ]
    }
   ],
   "source": [
    "# Print the accuracy for both department and attrition\n",
    "print(f\"Department Accuracy: {eval_results[3]:.4f}\")\n",
    "print(f\"Attrition Accuracy: {eval_results[4]:.4f}\") "
   ]
  },
  {
   "cell_type": "markdown",
   "metadata": {
    "id": "eGSyfsZfWOQM"
   },
   "source": [
    "# Summary\n",
    "\n",
    "In the provided space below, briefly answer the following questions.\n",
    "\n",
    "1. Is accuracy the best metric to use on this data? Why or why not?\n",
    "\n",
    "2. What activation functions did you choose for your output layers, and why?\n",
    "\n",
    "3. Can you name a few ways that this model might be improved?"
   ]
  },
  {
   "cell_type": "markdown",
   "metadata": {
    "id": "pi9SLpFnWvbF"
   },
   "source": [
    "YOUR ANSWERS HERE\n",
    "\n",
    "1. While accuracy is a commonly used metric, it should not be used alone.  For the Attrition prediction (binary classification), accuracy could be misleading if the classes are imbalanced.  About 16% of the employees experience attrition (y=1).  Metrics like precision, recall, or F1-score would be useful, as they better capture the model's ability to correctly predict the minority class.  \n",
    "2. For the Department output layer, softmax activation was chosen becuase it is a multi-class classification problem (R&D, Sales and HR).  The softmax function ouputs the probabilities for each of the three possible departments.  Thus, the department with the highest probability is given.\n",
    "\n",
    "    For the Attrition output layer, sigmoid activation was chosen because it is a binary classification problem.  Either the employee leaves (y=1) or stays (y=0).  The sigmoid function outputs a probability between 0 and 1, ideal for predicting binary outcomes.\n",
    "\n",
    "    The combination of softmax for Department and sigmoid for Attrition ensures that both types of classification are handled correctly.\n",
    "\n",
    "3. Here are three ways the model can be improved.  (1) Class imalance handling for the X dataset.  (2)  Huyperparameter tuning.  The model's performance can be improved by tuning the number of layers, numer of neurons per layer, and batch sie.  (3)  Additional features or feature engineering.  More meaningful features would help.  Creating new columns from existing columns may help based on domain knowledge."
   ]
  },
  {
   "cell_type": "code",
   "execution_count": null,
   "metadata": {
    "executionInfo": {
     "elapsed": 3,
     "status": "ok",
     "timestamp": 1730699260004,
     "user": {
      "displayName": "Alexander Booth",
      "userId": "02269714993535573104"
     },
     "user_tz": 360
    },
    "id": "ZuQWjGgGXZ3C"
   },
   "outputs": [],
   "source": []
  }
 ],
 "metadata": {
  "colab": {
   "provenance": []
  },
  "kernelspec": {
   "display_name": "dev",
   "language": "python",
   "name": "python3"
  },
  "language_info": {
   "codemirror_mode": {
    "name": "ipython",
    "version": 3
   },
   "file_extension": ".py",
   "mimetype": "text/x-python",
   "name": "python",
   "nbconvert_exporter": "python",
   "pygments_lexer": "ipython3",
   "version": "3.10.13"
  }
 },
 "nbformat": 4,
 "nbformat_minor": 0
}
